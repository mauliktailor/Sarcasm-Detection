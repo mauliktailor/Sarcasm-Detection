{
  "nbformat": 4,
  "nbformat_minor": 0,
  "metadata": {
    "colab": {
      "name": "Sarcasm.ipynb",
      "provenance": []
    },
    "kernelspec": {
      "name": "python3",
      "display_name": "Python 3"
    }
  },
  "cells": [
    {
      "cell_type": "code",
      "metadata": {
        "id": "Yp-d_z7nyFca",
        "colab_type": "code",
        "colab": {}
      },
      "source": [
        "import tensorflow as tf\n",
        "from tensorflow import  keras\n",
        "from tensorflow.keras.preprocessing.sequence import pad_sequences\n",
        "from tensorflow.keras.preprocessing.text import Tokenizer\n",
        "import numpy as np\n",
        "import json "
      ],
      "execution_count": null,
      "outputs": []
    },
    {
      "cell_type": "markdown",
      "metadata": {
        "id": "AUC41YE10ll7",
        "colab_type": "text"
      },
      "source": [
        "#loading the data "
      ]
    },
    {
      "cell_type": "code",
      "metadata": {
        "id": "Ec-QOACZyfrp",
        "colab_type": "code",
        "colab": {}
      },
      "source": [
        "with open('/content/sarcasm.json') as f:\n",
        "  data = json.load(f)"
      ],
      "execution_count": null,
      "outputs": []
    },
    {
      "cell_type": "markdown",
      "metadata": {
        "id": "3XA3o5cu0eoA",
        "colab_type": "text"
      },
      "source": [
        "## Seprating sentence and label"
      ]
    },
    {
      "cell_type": "code",
      "metadata": {
        "id": "xVi3auQ_z9B8",
        "colab_type": "code",
        "colab": {}
      },
      "source": [
        "sent=[]\n",
        "label=[]\n",
        "for item in data:\n",
        "  sent.append(item['headline'])\n",
        "  label.append(item['is_sarcastic'])"
      ],
      "execution_count": null,
      "outputs": []
    },
    {
      "cell_type": "code",
      "metadata": {
        "id": "Woqb_WKK0YVd",
        "colab_type": "code",
        "colab": {
          "base_uri": "https://localhost:8080/",
          "height": 34
        },
        "outputId": "dcd2c357-8671-4c69-c290-f038e010792f"
      },
      "source": [
        "len(sent)"
      ],
      "execution_count": null,
      "outputs": [
        {
          "output_type": "execute_result",
          "data": {
            "text/plain": [
              "26709"
            ]
          },
          "metadata": {
            "tags": []
          },
          "execution_count": 57
        }
      ]
    },
    {
      "cell_type": "markdown",
      "metadata": {
        "id": "F1zPNUrX0-ZM",
        "colab_type": "text"
      },
      "source": [
        "##Setting all hyperparameters"
      ]
    },
    {
      "cell_type": "code",
      "metadata": {
        "id": "pCSB-3-X1A0U",
        "colab_type": "code",
        "colab": {}
      },
      "source": [
        "max_len = 32\n",
        "vocab_size = 10000\n",
        "embedding_dim = 16 \n",
        "training_size = 20000"
      ],
      "execution_count": null,
      "outputs": []
    },
    {
      "cell_type": "markdown",
      "metadata": {
        "id": "9bXPOFb_1g1h",
        "colab_type": "text"
      },
      "source": [
        "## Splitting into train and test "
      ]
    },
    {
      "cell_type": "code",
      "metadata": {
        "id": "WC3JXW3R1gFu",
        "colab_type": "code",
        "colab": {}
      },
      "source": [
        "train_sents = sent[:training_size]\n",
        "train_labels = np.array(label[:training_size])\n",
        "testing_sents = sent[training_size:]\n",
        "testing_labels = np.array(label[training_size:] )"
      ],
      "execution_count": null,
      "outputs": []
    },
    {
      "cell_type": "markdown",
      "metadata": {
        "id": "JHaxhV2U0wNh",
        "colab_type": "text"
      },
      "source": [
        "#Preprocessing \n",
        "## 1. Genereting tokens\n",
        "## 2. Padding"
      ]
    },
    {
      "cell_type": "code",
      "metadata": {
        "id": "8e5jmG-z0aQF",
        "colab_type": "code",
        "colab": {}
      },
      "source": [
        " tokenizer  = Tokenizer(num_words=vocab_size, oov_token=\"<OOV>\")"
      ],
      "execution_count": null,
      "outputs": []
    },
    {
      "cell_type": "code",
      "metadata": {
        "id": "te8WIFn82SXJ",
        "colab_type": "code",
        "colab": {}
      },
      "source": [
        "tokenizer.fit_on_texts(train_sents)"
      ],
      "execution_count": null,
      "outputs": []
    },
    {
      "cell_type": "code",
      "metadata": {
        "id": "wnh8gh4I2Vnf",
        "colab_type": "code",
        "colab": {}
      },
      "source": [
        "train_seq = tokenizer.texts_to_sequences(train_sents)\n",
        "padded_train_seq = pad_sequences(train_seq, maxlen=max_len, padding='post', truncating='post')"
      ],
      "execution_count": null,
      "outputs": []
    },
    {
      "cell_type": "code",
      "metadata": {
        "id": "JBup6N3-2uCG",
        "colab_type": "code",
        "colab": {}
      },
      "source": [
        "test_seq = tokenizer.texts_to_sequences(testing_sents)\n",
        "padded_test_seq = pad_sequences(test_seq, maxlen=max_len, padding='post', truncating='post')"
      ],
      "execution_count": null,
      "outputs": []
    },
    {
      "cell_type": "code",
      "metadata": {
        "id": "7FuhlZ0x24qT",
        "colab_type": "code",
        "colab": {}
      },
      "source": [
        "word_index = tokenizer.word_index"
      ],
      "execution_count": null,
      "outputs": []
    },
    {
      "cell_type": "markdown",
      "metadata": {
        "id": "KXetcfDA3I0C",
        "colab_type": "text"
      },
      "source": [
        "#Model "
      ]
    },
    {
      "cell_type": "code",
      "metadata": {
        "id": "UdlCIhoT3FsL",
        "colab_type": "code",
        "colab": {}
      },
      "source": [
        "model = keras.Sequential([\n",
        "                          keras.layers.Embedding(input_dim=vocab_size, output_dim=embedding_dim, input_length=max_len),\n",
        "                          keras.layers.Flatten(),\n",
        "                          keras.layers.Dense(24, activation='relu'),\n",
        "                          keras.layers.Dense(1, activation='sigmoid')\n",
        "])"
      ],
      "execution_count": null,
      "outputs": []
    },
    {
      "cell_type": "code",
      "metadata": {
        "id": "8-3YYgNt32qn",
        "colab_type": "code",
        "colab": {}
      },
      "source": [
        "model.compile(loss='binary_crossentropy', optimizer='adam', metrics=['accuracy'])"
      ],
      "execution_count": null,
      "outputs": []
    },
    {
      "cell_type": "code",
      "metadata": {
        "id": "-yKcwk3U4Abz",
        "colab_type": "code",
        "colab": {
          "base_uri": "https://localhost:8080/",
          "height": 372
        },
        "outputId": "920946b1-a937-4c5d-8a67-2540e4406c41"
      },
      "source": [
        "history = model.fit(x=padded_train_seq, y=train_labels, epochs=10, validation_data=(padded_test_seq, testing_labels))"
      ],
      "execution_count": null,
      "outputs": [
        {
          "output_type": "stream",
          "text": [
            "Epoch 1/10\n",
            "625/625 [==============================] - 2s 4ms/step - loss: 0.4229 - accuracy: 0.7900 - val_loss: 0.3161 - val_accuracy: 0.8605\n",
            "Epoch 2/10\n",
            "625/625 [==============================] - 2s 4ms/step - loss: 0.1878 - accuracy: 0.9263 - val_loss: 0.3248 - val_accuracy: 0.8657\n",
            "Epoch 3/10\n",
            "625/625 [==============================] - 2s 4ms/step - loss: 0.0827 - accuracy: 0.9747 - val_loss: 0.3923 - val_accuracy: 0.8602\n",
            "Epoch 4/10\n",
            "625/625 [==============================] - 2s 4ms/step - loss: 0.0285 - accuracy: 0.9930 - val_loss: 0.4773 - val_accuracy: 0.8559\n",
            "Epoch 5/10\n",
            "625/625 [==============================] - 2s 4ms/step - loss: 0.0091 - accuracy: 0.9984 - val_loss: 0.5425 - val_accuracy: 0.8526\n",
            "Epoch 6/10\n",
            "625/625 [==============================] - 2s 4ms/step - loss: 0.0039 - accuracy: 0.9994 - val_loss: 0.6111 - val_accuracy: 0.8508\n",
            "Epoch 7/10\n",
            "625/625 [==============================] - 2s 4ms/step - loss: 0.0022 - accuracy: 0.9994 - val_loss: 0.6657 - val_accuracy: 0.8511\n",
            "Epoch 8/10\n",
            "625/625 [==============================] - 2s 4ms/step - loss: 0.0016 - accuracy: 0.9997 - val_loss: 0.7050 - val_accuracy: 0.8475\n",
            "Epoch 9/10\n",
            "625/625 [==============================] - 2s 4ms/step - loss: 0.0014 - accuracy: 0.9995 - val_loss: 0.7454 - val_accuracy: 0.8508\n",
            "Epoch 10/10\n",
            "625/625 [==============================] - 2s 4ms/step - loss: 0.0012 - accuracy: 0.9996 - val_loss: 0.7696 - val_accuracy: 0.8495\n"
          ],
          "name": "stdout"
        }
      ]
    },
    {
      "cell_type": "code",
      "metadata": {
        "id": "u_PrNNDd4dD_",
        "colab_type": "code",
        "colab": {}
      },
      "source": [
        "import matplotlib.pyplot as plt"
      ],
      "execution_count": null,
      "outputs": []
    },
    {
      "cell_type": "code",
      "metadata": {
        "id": "gC5aguSp5nah",
        "colab_type": "code",
        "colab": {}
      },
      "source": [
        "def plot_graphs(history, string):\n",
        "  plt.plot(history.history[string])\n",
        "  plt.plot(history.history['val_'+string])\n",
        "  plt.xlabel(\"Epochs\")\n",
        "  plt.ylabel(string)\n",
        "  plt.legend([string, 'val_'+string])\n",
        "  plt.show()"
      ],
      "execution_count": null,
      "outputs": []
    },
    {
      "cell_type": "code",
      "metadata": {
        "id": "L4_xh__g-tbl",
        "colab_type": "code",
        "colab": {
          "base_uri": "https://localhost:8080/",
          "height": 543
        },
        "outputId": "ed405850-a8e7-4f53-f21f-165ea742e9f4"
      },
      "source": [
        "plot_graphs(history, 'accuracy')\n",
        "plot_graphs(history, 'loss')"
      ],
      "execution_count": null,
      "outputs": [
        {
          "output_type": "display_data",
          "data": {
            "image/png": "[encoded data removed]",
            "text/plain": [
              "<Figure size 432x288 with 1 Axes>"
            ]
          },
          "metadata": {
            "tags": [],
            "needs_background": "light"
          }
        },
        {
          "output_type": "display_data",
          "data": {
            "image/png": "[encoded data removed]",
            "text/plain": [
              "<Figure size 432x288 with 1 Axes>"
            ]
          },
          "metadata": {
            "tags": [],
            "needs_background": "light"
          }
        }
      ]
    },
    {
      "cell_type": "code",
      "metadata": {
        "id": "VSE82UDp-0uT",
        "colab_type": "code",
        "colab": {}
      },
      "source": [
        ""
      ],
      "execution_count": null,
      "outputs": []
    }
  ]
}